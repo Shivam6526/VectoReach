{
 "cells": [
  {
   "cell_type": "code",
   "execution_count": 2,
   "id": "45212cd4-2c38-482e-9a72-c18c25cf0c54",
   "metadata": {},
   "outputs": [
    {
     "name": "stdout",
     "output_type": "stream",
     "text": [
      "✅ Generated 63008 events across 248 categories\n"
     ]
    }
   ],
   "source": [
    "# START GENAI\n",
    "import pandas as pd\n",
    "import random\n",
    "import uuid\n",
    "from datetime import datetime, timedelta\n",
    "\n",
    "# Load users and products\n",
    "users_df = pd.read_csv(\"/home/jupyter/generate/data/users.csv\")\n",
    "products_df = pd.read_csv(\"/home/jupyter/generate/data/products.csv\")\n",
    "\n",
    "events_data = []\n",
    "\n",
    "\n",
    "def random_date(start, end):\n",
    "    delta = end - start\n",
    "    random_seconds = random.randrange(int(delta.total_seconds()))\n",
    "    return start + timedelta(seconds=random_seconds)\n",
    "\n",
    "\n",
    "start_date = datetime(2025, 1, 1)\n",
    "end_date = datetime(2025, 8, 31)\n",
    "\n",
    "for _, user in users_df.iterrows():\n",
    "    try:\n",
    "        # Parse secondary category IDs safely\n",
    "        secondary_ids = [\n",
    "            int(cid.strip()) for cid in str(user['secondary_category_ids']).split(\",\") if cid.strip().isdigit()\n",
    "        ]\n",
    "    except:\n",
    "        secondary_ids = []\n",
    "\n",
    "    primary_products = products_df[products_df['category_id'] == user['primary_category_id']]\n",
    "    secondary_products = products_df[products_df['category_id'].isin(secondary_ids)]\n",
    "\n",
    "    for _ in range(random.randint(5, 20)):  # Events per user\n",
    "        roll = random.random()\n",
    "\n",
    "        if roll < 0.7 and not primary_products.empty:\n",
    "            product = primary_products.sample(1).iloc[0]\n",
    "        elif roll < 0.9 and not secondary_products.empty:\n",
    "            product = secondary_products.sample(1).iloc[0]\n",
    "        else:\n",
    "            product = products_df.sample(1).iloc[0]\n",
    "\n",
    "        events_data.append({\n",
    "            \"event_id\": str(uuid.uuid4())[:8],\n",
    "            \"user_id\": user['user_id'],\n",
    "            \"asin\": product['asin'],  # products.csv uses asin\n",
    "            \"category_id\": product['category_id'],\n",
    "            \"event_type\": random.choice([\"view\", \"click\", \"add_to_cart\", \"purchase\"]),\n",
    "            \"event_timestamp\": random_date(start_date, end_date).isoformat(),\n",
    "            # Optional enrichment for analytics:\n",
    "            \"primary_segment\": user[\"primary_segment\"],\n",
    "            \"secondary_segments\": user[\"secondary_segments\"]\n",
    "        })\n",
    "\n",
    "events_df = pd.DataFrame(events_data)\n",
    "events_df.to_csv(\"/home/jupyter/generate/data/user_events.csv\", index=False)\n",
    "\n",
    "print(f\"✅ Generated {len(events_df)} events across {events_df['category_id'].nunique()} categories\")\n",
    "\n",
    "# END GENAI"
   ]
  },
  {
   "cell_type": "code",
   "execution_count": null,
   "id": "a2604850-6513-40b5-9263-58ff86500820",
   "metadata": {},
   "outputs": [],
   "source": []
  }
 ],
 "metadata": {
  "environment": {
   "kernel": "conda-base-py",
   "name": "workbench-notebooks.m132",
   "type": "gcloud",
   "uri": "us-docker.pkg.dev/deeplearning-platform-release/gcr.io/workbench-notebooks:m132"
  },
  "kernelspec": {
   "display_name": "Python 3 (ipykernel) (Local)",
   "language": "python",
   "name": "conda-base-py"
  },
  "language_info": {
   "codemirror_mode": {
    "name": "ipython",
    "version": 3
   },
   "file_extension": ".py",
   "mimetype": "text/x-python",
   "name": "python",
   "nbconvert_exporter": "python",
   "pygments_lexer": "ipython3",
   "version": "3.10.18"
  }
 },
 "nbformat": 4,
 "nbformat_minor": 5
}
