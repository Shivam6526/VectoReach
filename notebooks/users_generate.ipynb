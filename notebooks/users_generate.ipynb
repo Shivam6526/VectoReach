{
 "cells": [
  {
   "cell_type": "code",
   "execution_count": 1,
   "id": "490fa4bd-e45e-4056-8c20-754a8c2aee77",
   "metadata": {},
   "outputs": [
    {
     "name": "stdout",
     "output_type": "stream",
     "text": [
      "✅ Generated 5000 users and saved to users.csv\n"
     ]
    }
   ],
   "source": [
    "# START GENAI\n",
    "import pandas as pd\n",
    "import random\n",
    "\n",
    "# Load mapping & categories\n",
    "mapping_df = pd.read_csv(\"/home/jupyter/generate/data/category_segment_mapping.csv\",\n",
    "                         names=[\"category_id\", \"category_name\", \"primary_segment\", \"secondary_segments\"])\n",
    "categories_df = pd.read_csv(\"/home/jupyter/generate/data/categories.csv\")\n",
    "\n",
    "NUM_USERS = 5000  # adjustable\n",
    "users_data = []\n",
    "\n",
    "for i in range(NUM_USERS):\n",
    "    user_id = f\"U{i + 1:05d}\"\n",
    "\n",
    "    # Pick a primary category at random\n",
    "    primary_row = mapping_df.sample(1).iloc[0]\n",
    "    primary_category_id = primary_row['category_id']\n",
    "    primary_segment = primary_row['primary_segment']\n",
    "\n",
    "    # Secondary segments from mapping file\n",
    "    secondary_segments_list = [seg.strip() for seg in str(primary_row['secondary_segments']).split(\",\") if seg.strip()]\n",
    "\n",
    "    # Pick 1–3 random secondary categories (excluding primary)\n",
    "    other_categories = mapping_df[mapping_df['category_id'] != primary_category_id]\n",
    "    secondary_category_ids = list(other_categories.sample(random.randint(1, 3))['category_id'])\n",
    "\n",
    "    users_data.append({\n",
    "        \"user_id\": user_id,\n",
    "        \"primary_category_id\": primary_category_id,\n",
    "        \"primary_segment\": primary_segment,\n",
    "        \"secondary_category_ids\": \",\".join(map(str, secondary_category_ids)),\n",
    "        \"secondary_segments\": \",\".join(secondary_segments_list),\n",
    "        \"age_group\": random.choice([\"18-24\", \"25-34\", \"35-44\", \"45-54\", \"55+\"]),\n",
    "        \"gender\": random.choice([\"Male\", \"Female\", \"Other\"]),\n",
    "        \"country\": random.choice([\"US\", \"UK\", \"CA\", \"AU\", \"IN\"]),\n",
    "        \"preferred_device\": random.choice([\"mobile\", \"desktop\", \"tablet\"])\n",
    "    })\n",
    "\n",
    "users_df = pd.DataFrame(users_data)\n",
    "users_df.to_csv(\"/home/jupyter/generate/data/users.csv\", index=False)\n",
    "print(f\"✅ Generated {len(users_df)} users and saved to users.csv\")\n",
    "\n",
    "# END GENAI"
   ]
  },
  {
   "cell_type": "code",
   "execution_count": 2,
   "id": "2ca2ef6d-b066-4c6f-86b9-96366d2cbb12",
   "metadata": {},
   "outputs": [
    {
     "name": "stdout",
     "output_type": "stream",
     "text": [
      "✅ Generated 5000 users and saved to users.csv\n"
     ]
    }
   ],
   "source": [
    "# START GENAI\n",
    "import pandas as pd\n",
    "import random\n",
    "\n",
    "# Load mapping: category_id, category_name, primary_segment, secondary_segments\n",
    "mapping_df = pd.read_csv(\n",
    "    \"/home/jupyter/generate/data/category_segment_mapping.csv\",\n",
    "    names=[\"category_id\", \"category_name\", \"primary_segment\", \"secondary_segments\"]\n",
    ")\n",
    "\n",
    "NUM_USERS = 5000\n",
    "users_data = []\n",
    "\n",
    "for i in range(NUM_USERS):\n",
    "    user_id = f\"U{i + 1:05d}\"\n",
    "\n",
    "    # Pick a primary category randomly\n",
    "    primary_row = mapping_df.sample(1).iloc[0]\n",
    "    primary_category_id = primary_row['category_id']\n",
    "    primary_segment = primary_row['primary_segment']\n",
    "\n",
    "    # Pick 1–3 random secondary category IDs (excluding the primary one)\n",
    "    other_categories = mapping_df[mapping_df['category_id'] != primary_category_id]\n",
    "    secondary_category_ids = list(other_categories.sample(random.randint(1, 3))['category_id'])\n",
    "\n",
    "    # Lookup their primary_segment values to populate secondary_segments\n",
    "    secondary_segments_list = list(\n",
    "        mapping_df[mapping_df['category_id'].isin(secondary_category_ids)]['primary_segment']\n",
    "    )\n",
    "\n",
    "    users_data.append({\n",
    "        \"user_id\": user_id,\n",
    "        \"primary_category_id\": primary_category_id,\n",
    "        \"primary_segment\": primary_segment,\n",
    "        \"secondary_category_ids\": \",\".join(map(str, secondary_category_ids)),\n",
    "        \"secondary_segments\": \",\".join(secondary_segments_list),\n",
    "        \"age_group\": random.choice([\"18-24\", \"25-34\", \"35-44\", \"45-54\", \"55+\"]),\n",
    "        \"gender\": random.choice([\"Male\", \"Female\", \"Other\"]),\n",
    "        \"country\": random.choice([\"US\", \"UK\", \"CA\", \"AU\", \"IN\"]),\n",
    "        \"preferred_device\": random.choice([\"mobile\", \"desktop\", \"tablet\"])\n",
    "    })\n",
    "\n",
    "users_df = pd.DataFrame(users_data)\n",
    "users_df.to_csv(\"/home/jupyter/generate/data/users.csv\", index=False)\n",
    "\n",
    "print(f\"✅ Generated {len(users_df)} users and saved to users.csv\")\n",
    "\n",
    "# END GENAI"
   ]
  },
  {
   "cell_type": "code",
   "execution_count": null,
   "id": "8c0d1d12-b558-4f1e-a22e-844a1e244e12",
   "metadata": {},
   "outputs": [],
   "source": []
  }
 ],
 "metadata": {
  "environment": {
   "kernel": "conda-base-py",
   "name": "workbench-notebooks.m132",
   "type": "gcloud",
   "uri": "us-docker.pkg.dev/deeplearning-platform-release/gcr.io/workbench-notebooks:m132"
  },
  "kernelspec": {
   "display_name": "Python 3 (ipykernel) (Local)",
   "language": "python",
   "name": "conda-base-py"
  },
  "language_info": {
   "codemirror_mode": {
    "name": "ipython",
    "version": 3
   },
   "file_extension": ".py",
   "mimetype": "text/x-python",
   "name": "python",
   "nbconvert_exporter": "python",
   "pygments_lexer": "ipython3",
   "version": "3.10.18"
  }
 },
 "nbformat": 4,
 "nbformat_minor": 5
}
